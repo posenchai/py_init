{
 "cells": [
  {
   "cell_type": "markdown",
   "metadata": {
    "slideshow": {
     "slide_type": "slide"
    }
   },
   "source": [
    "# Python init.\n",
    "         - popo for G.C."
   ]
  },
  {
   "cell_type": "markdown",
   "metadata": {
    "slideshow": {
     "slide_type": "subslide"
    }
   },
   "source": [
    "# 環境\n",
    "- Anaconda\n",
    "- https://www.anaconda.com/distribution\n",
    "    - Python 現成懶人包，裡面已經把常用的套件(library/package)包在一起\n",
    "    - 下載後直接使用Jupyter Notebook(一個編輯器)撰寫，很好上手!"
   ]
  },
  {
   "cell_type": "markdown",
   "metadata": {
    "slideshow": {
     "slide_type": "subslide"
    }
   },
   "source": [
    "# 學一個新語言一定要會\n",
    "\n",
    "- 一開始認識這些就好：\n",
    "    - 變數：整數/int、浮點數/小數/float、字串/string、布林值bool\n",
    "    - 數組：list、tuple、dict\n",
    "    - 二元運算符號：+-*\\、==、!=、is、or.....\n",
    "    - 流程控制；條件控制if-else、迴圈for/ while\n",
    "    \n",
    "- 不過連基礎的變數都會有一些tricky特性在裡面，剛開始真的\"認識\"就好\n",
    "    \n",
    "- Python 基礎(iT邦幫忙)\n",
    "    - https://ithelp.ithome.com.tw/articles/10199458\n",
    "\n",
    "- 一些小測驗：\n",
    "    - 指定身高體重計算BMI\n",
    "    - 印出一張九九乘法表\n",
    "\n",
    "\n"
   ]
  },
  {
   "cell_type": "markdown",
   "metadata": {
    "slideshow": {
     "slide_type": "subslide"
    }
   },
   "source": [
    "# 挑些項目來做\n",
    "\n",
    "- 資料分析(進階的excel處理，關鍵字：pandas套件)\n",
    "    - Kaggle競賽-鐵達尼號生存預測(Top 3%)\n",
    "    - https://medium.com/@yulongtsai/https-medium-com-yulongtsai-titanic-top3-8e64741cc11f\n",
    "    \n",
    "- 爬蟲(可以拿來練功、學一些網站開發的技術)\n",
    "    - Day-3 Python爬蟲小人生(3)\n",
    "    - https://ithelp.ithome.com.tw/articles/10202897\n",
    "    \n",
    "- 或是想做什麼再跟我說，可以寫一些sample給你\n",
    "    - 照樣造句是很好快速上手的方式:: 直接拿現成的抄抄改改，一律先求有再求好\n",
    "    - 不要抄到爛code就好，但有時候看到爛扣自己也會進步"
   ]
  },
  {
   "cell_type": "code",
   "execution_count": null,
   "metadata": {
    "slideshow": {
     "slide_type": "skip"
    }
   },
   "outputs": [],
   "source": []
  }
 ],
 "metadata": {
  "celltoolbar": "Slideshow",
  "kernelspec": {
   "display_name": "Python 3",
   "language": "python",
   "name": "python3"
  },
  "language_info": {
   "codemirror_mode": {
    "name": "ipython",
    "version": 3
   },
   "file_extension": ".py",
   "mimetype": "text/x-python",
   "name": "python",
   "nbconvert_exporter": "python",
   "pygments_lexer": "ipython3",
   "version": "3.7.3"
  }
 },
 "nbformat": 4,
 "nbformat_minor": 2
}

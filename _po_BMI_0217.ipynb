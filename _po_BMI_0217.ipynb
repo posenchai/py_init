{
 "cells": [
  {
   "cell_type": "code",
   "execution_count": 1,
   "metadata": {},
   "outputs": [],
   "source": [
    "# BMI = 體重(公斤) / 身高(公尺)平方"
   ]
  },
  {
   "cell_type": "code",
   "execution_count": 2,
   "metadata": {},
   "outputs": [],
   "source": [
    "# 1. 先完成需求邏輯"
   ]
  },
  {
   "cell_type": "code",
   "execution_count": 3,
   "metadata": {},
   "outputs": [
    {
     "name": "stdout",
     "output_type": "stream",
     "text": [
      "24.302487059714682\n",
      "24.302487059714682\n"
     ]
    }
   ],
   "source": [
    "weight = 77\n",
    "height = 1.78\n",
    "\n",
    "bmi_result = weight / (height * height)\n",
    "print(bmi_result)\n",
    "\n",
    "bmi_result = weight / (height ** 2)  # x ** n 是 x取n次方\n",
    "print(bmi_result)"
   ]
  },
  {
   "cell_type": "code",
   "execution_count": 4,
   "metadata": {},
   "outputs": [],
   "source": [
    "# 2. 改成可以讓使用者輸入"
   ]
  },
  {
   "cell_type": "code",
   "execution_count": 5,
   "metadata": {},
   "outputs": [
    {
     "name": "stdin",
     "output_type": "stream",
     "text": [
      "請輸入體重: 77\n",
      "請輸入身高: 1.78\n"
     ]
    },
    {
     "data": {
      "text/plain": [
       "24.302487059714682"
      ]
     },
     "execution_count": 5,
     "metadata": {},
     "output_type": "execute_result"
    }
   ],
   "source": [
    "# weight = input()\n",
    "# height = input()\n",
    "\n",
    "weight = input(\"請輸入體重:\")  # 顯示輸入提示\n",
    "height = input(\"請輸入身高:\")\n",
    "\n",
    "# input()方法會把輸入的值存成字串，所以沒辦法進行數學運算\n",
    "# bmi_result = weight / (height ** 2)  # 會報錯: TypeError: unsupported operand type(s) for ** or pow(): 'str' and 'int'\n",
    "\n",
    "# 所以要先把用數字的值串包過一次才可以正確執行\n",
    "bmi_result = int(weight) / (float(height) ** 2)\n",
    "bmi_result"
   ]
  },
  {
   "cell_type": "code",
   "execution_count": null,
   "metadata": {},
   "outputs": [],
   "source": [
    "# 3. 更進階一些\n",
    "# 把邏輯包裝成一個方法藏起來，讓使用的時候更方便"
   ]
  },
  {
   "cell_type": "code",
   "execution_count": 7,
   "metadata": {},
   "outputs": [],
   "source": [
    "# 宣告一個方法叫做cal_bmi()\n",
    "def cal_bmi(weight_value, height_value):\n",
    "    # 下面三個引號的是這個方法的註解說明\n",
    "    \"\"\" 計算BMI。\n",
    "    :param weight_value: 體重，單位: 公斤  # 有2個輸入\n",
    "    :param height_value: 身高，單位: 公尺\n",
    "    :return: 數值型態的結果  # 有1個輸出\n",
    "    \"\"\"\n",
    "    # 這個方法邏輯細節寫在這裡:\n",
    "    bmi_result = int(weight_value) / (float(height_value) ** 2)\n",
    "    return bmi_result  # 這個方法有回傳值，所以要把\"bmi_result\" return 出去"
   ]
  },
  {
   "cell_type": "code",
   "execution_count": null,
   "metadata": {},
   "outputs": [],
   "source": [
    "weight = input(\"請輸入體重:\")  # 可以比較上下兩種的差異\n",
    "height = input(\"請輸入身高:\")\n",
    "\n",
    "bmi_result = cal_bmi(weight, height)  # 直接call自訂的cal_bmi()方法\n",
    "bmi_result"
   ]
  },
  {
   "cell_type": "code",
   "execution_count": 8,
   "metadata": {},
   "outputs": [],
   "source": [
    "# 為什麼更方便?\n",
    "# 因為你會需要用到很多次，但你不會想要每一次用到都寫一堆數學公式\n",
    "\n",
    "import random  # 產生亂數的套件"
   ]
  },
  {
   "cell_type": "code",
   "execution_count": null,
   "metadata": {},
   "outputs": [],
   "source": [
    "# 試著產生一個目標亂數"
   ]
  },
  {
   "cell_type": "code",
   "execution_count": null,
   "metadata": {},
   "outputs": [],
   "source": [
    "w = random.randint(40, 90)  # 隨機產生體重，介於40 ~ 90的整數亂數\n",
    "h = 1 + random.random()  # 隨機產生身高， 1 + (介於0 ~ 1的浮點數亂數)\n",
    "cal_bmi(w, h)"
   ]
  },
  {
   "cell_type": "code",
   "execution_count": null,
   "metadata": {},
   "outputs": [],
   "source": [
    "# 隨機產生一個班級: 28人的身高體重，再計算BMI"
   ]
  },
  {
   "cell_type": "code",
   "execution_count": 14,
   "metadata": {},
   "outputs": [
    {
     "name": "stdout",
     "output_type": "stream",
     "text": [
      " 1: 59.488\n",
      " 2: 23.023\n",
      " 3: 16.632\n",
      " 4: 20.932\n",
      " 5: 38.134\n",
      " 6: 22.342\n",
      " 7: 23.604\n",
      " 8: 21.032\n",
      " 9: 42.242\n",
      "10: 23.337\n",
      "11: 21.124\n",
      "12: 15.970\n",
      "13: 13.531\n",
      "14: 31.694\n",
      "15: 39.202\n",
      "16: 16.873\n",
      "17: 26.635\n",
      "18: 21.082\n",
      "19: 33.649\n",
      "20: 50.949\n",
      "21: 34.705\n",
      "22: 34.555\n",
      "23: 15.503\n",
      "24: 22.601\n",
      "25: 62.715\n",
      "26: 18.178\n",
      "27: 28.469\n",
      "28: 26.424\n"
     ]
    }
   ],
   "source": [
    "for student_number in range(1, 29):\n",
    "    w = random.randint(40, 90) \n",
    "    h = 1 + random.random()\n",
    "    \n",
    "    bmi_result = cal_bmi(w, h)\n",
    "#     print(student_number, bmi_result)  # 印出座號和BMI結果\n",
    "#     print(f\"{student_number:2}: {bmi_result}\")  # 用f字串讓輸出的座號更整齊\n",
    "    print(f\"{student_number:2}: {bmi_result:.3f}\")  # 用f字串讓小數更整齊: 取小數第3位"
   ]
  },
  {
   "cell_type": "code",
   "execution_count": null,
   "metadata": {},
   "outputs": [],
   "source": []
  }
 ],
 "metadata": {
  "kernelspec": {
   "display_name": "Python 3",
   "language": "python",
   "name": "python3"
  },
  "language_info": {
   "codemirror_mode": {
    "name": "ipython",
    "version": 3
   },
   "file_extension": ".py",
   "mimetype": "text/x-python",
   "name": "python",
   "nbconvert_exporter": "python",
   "pygments_lexer": "ipython3",
   "version": "3.7.3"
  }
 },
 "nbformat": 4,
 "nbformat_minor": 2
}

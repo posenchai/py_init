{
 "cells": [
  {
   "cell_type": "code",
   "execution_count": 1,
   "metadata": {},
   "outputs": [],
   "source": [
    "# BMI = 體重(公斤) / 身高(公尺)平方"
   ]
  },
  {
   "cell_type": "code",
   "execution_count": 2,
   "metadata": {},
   "outputs": [],
   "source": [
    "# 1. 先完成需求邏輯"
   ]
  },
  {
   "cell_type": "code",
   "execution_count": 3,
   "metadata": {},
   "outputs": [
    {
     "name": "stdout",
     "output_type": "stream",
     "text": [
      "20.761245674740486\n",
      "20.761245674740486\n"
     ]
    }
   ],
   "source": [
    "weight = 60\n",
    "height = 1.7\n",
    "\n",
    "bmi_result = weight / (height * height)\n",
    "print(bmi_result)\n",
    "\n",
    "bmi_result = weight / (height ** 2)  # x ** n 是 x取n次方\n",
    "print(bmi_result)"
   ]
  },
  {
   "cell_type": "code",
   "execution_count": 4,
   "metadata": {},
   "outputs": [],
   "source": [
    "# 2. 改成可以讓使用者輸入"
   ]
  },
  {
   "cell_type": "code",
   "execution_count": 5,
   "metadata": {},
   "outputs": [
    {
     "name": "stdin",
     "output_type": "stream",
     "text": [
      "請輸入體重: 77\n",
      "請輸入身高: 1.78\n"
     ]
    },
    {
     "data": {
      "text/plain": [
       "24.302487059714682"
      ]
     },
     "execution_count": 5,
     "metadata": {},
     "output_type": "execute_result"
    }
   ],
   "source": [
    "# weight = input()\n",
    "# height = input()\n",
    "\n",
    "weight = input(\"請輸入體重:\")  # 顯示輸入提示\n",
    "height = input(\"請輸入身高:\")\n",
    "\n",
    "# input()方法會把輸入的值存成字串，所以沒辦法進行數學運算\n",
    "# bmi_result = weight / (height ** 2)  # 會報錯: TypeError: unsupported operand type(s) for ** or pow(): 'str' and 'int'\n",
    "\n",
    "# 所以要先把用數字的值串包過一次才可以正確執行\n",
    "bmi_result = int(weight) / (float(height) ** 2)\n",
    "bmi_result"
   ]
  },
  {
   "cell_type": "code",
   "execution_count": null,
   "metadata": {},
   "outputs": [],
   "source": [
    "# 3. 更進階一些\n",
    "# 把邏輯包裝成一個方法藏起來，讓使用的時候更方便"
   ]
  },
  {
   "cell_type": "code",
   "execution_count": 12,
   "metadata": {},
   "outputs": [],
   "source": [
    "# 宣告一個方法叫做cal_bmi()\n",
    "def cal_bmi(weight_value, height_value):\n",
    "    # 下面三個引號的是這個方法的註解說明\n",
    "    \"\"\" 計算BMI。\n",
    "    :param weight_value: 體重，單位: 公斤  # 有2個輸入\n",
    "    :param height_value: 身高，單位: 公尺\n",
    "    :return: 數值型態的結果  # 有1個輸出\n",
    "    \"\"\"\n",
    "    # 這個方法邏輯細節寫在這裡:\n",
    "    bmi_result = int(weight_value) / (float(height_value) ** 2)\n",
    "    return bmi_result  # 這個方法有回傳值，所以要把\"bmi_result\" return 出去"
   ]
  },
  {
   "cell_type": "code",
   "execution_count": null,
   "metadata": {},
   "outputs": [],
   "source": [
    "weight = input(\"請輸入體重:\")  # 可以比較上下兩種的差異\n",
    "height = input(\"請輸入身高:\")\n",
    "\n",
    "bmi_result = cal_bmi(weight, height)  # 直接call自訂的cal_bmi()方法\n",
    "bmi_result"
   ]
  },
  {
   "cell_type": "code",
   "execution_count": 13,
   "metadata": {},
   "outputs": [],
   "source": [
    "# 為什麼更方便?\n",
    "# 因為你會需要用到很多次，但你不會想要每一次用到都寫一堆數學公式\n",
    "\n",
    "import random  # 產生亂數的套件"
   ]
  },
  {
   "cell_type": "code",
   "execution_count": 14,
   "metadata": {},
   "outputs": [],
   "source": [
    "# 試著產生一個目標亂數"
   ]
  },
  {
   "cell_type": "code",
   "execution_count": null,
   "metadata": {},
   "outputs": [],
   "source": [
    "w = random.randint(40, 90)  # 隨機產生體重，介於40 ~ 90的整數亂數\n",
    "h = 1 + random.random()  # 隨機產生身高， 1 + (介於0 ~ 1的浮點數亂數)\n",
    "cal_bmi(w, h)"
   ]
  },
  {
   "cell_type": "code",
   "execution_count": null,
   "metadata": {},
   "outputs": [],
   "source": [
    "# 隨機產生一個班級: 28人的身高體重，再計算BMI"
   ]
  },
  {
   "cell_type": "code",
   "execution_count": 15,
   "metadata": {},
   "outputs": [
    {
     "name": "stdout",
     "output_type": "stream",
     "text": [
      " 1: 19.059\n",
      " 2: 16.622\n",
      " 3: 21.541\n",
      " 4: 38.209\n",
      " 5: 17.018\n",
      " 6: 33.050\n",
      " 7: 18.331\n",
      " 8: 34.740\n",
      " 9: 50.602\n",
      "10: 39.378\n",
      "11: 21.634\n",
      "12: 66.267\n",
      "13: 61.170\n",
      "14: 22.230\n",
      "15: 44.443\n",
      "16: 49.951\n",
      "17: 46.385\n",
      "18: 21.506\n",
      "19: 18.378\n",
      "20: 62.626\n",
      "21: 35.768\n",
      "22: 28.833\n",
      "23: 18.270\n",
      "24: 27.184\n",
      "25: 19.153\n",
      "26: 38.333\n",
      "27: 55.728\n",
      "28: 23.963\n"
     ]
    }
   ],
   "source": [
    "for student_number in range(1, 29):\n",
    "    w = random.randint(40, 90) \n",
    "    h = 1 + random.random()\n",
    "    \n",
    "    bmi_result = cal_bmi(w, h)\n",
    "#     print(student_number, bmi_result)  # 印出座號和BMI結果\n",
    "#     print(f\"{student_number:2}: {bmi_result}\")  # 用f字串讓輸出的座號更整齊\n",
    "    print(f\"{student_number:2}: {bmi_result:.3f}\")  # 用f字串讓小數更整齊: 取小數第3位"
   ]
  },
  {
   "cell_type": "code",
   "execution_count": 1,
   "metadata": {},
   "outputs": [],
   "source": [
    "\n",
    "def prt_res(bmi_value, str_cate):\n",
    "    \n",
    "    print(f\"你的BMI: {bmi_value}, {str_cate}\")"
   ]
  },
  {
   "cell_type": "code",
   "execution_count": 5,
   "metadata": {},
   "outputs": [],
   "source": [
    "bmi_value = 60  # 走不到最後一個判斷\n",
    "if bmi_value < 18.5:\n",
    "    prt_res(bmi_value, str_cate=\"體重過輕\")\n",
    "    \n",
    "elif bmi_value > 18.5 and bmi_value < 24:\n",
    "    prt_res(bmi_value, str_cate=\"正常範圍\")\n",
    "    \n",
    "elif bmi_value >= 24 and bmi_value < 27:\n",
    "    prt_res(bmi_value, str_cate=\"過重\")\n",
    "    \n",
    "elif bmi_value >= 27 and bmi_value < 30:\n",
    "    prt_res(bmi_value, str_cate=\"輕度肥胖\")\n",
    "    \n",
    "elif bmi_value >= 30 and bmi_value < 35:\n",
    "    prt_res(bmi_value, str_cate=\"中度肥胖\")\n",
    "    \n",
    "elif bmi_value <= 35:\n",
    "    prt_res(bmi_value, str_cate=\"重度肥胖\")\n"
   ]
  },
  {
   "cell_type": "code",
   "execution_count": 9,
   "metadata": {},
   "outputs": [
    {
     "name": "stdout",
     "output_type": "stream",
     "text": [
      "你的BMI: 60, 重度肥胖\n"
     ]
    }
   ],
   "source": [
    "bmi_value = 60\n",
    "\n",
    "if  bmi_value < 18.5:\n",
    "    prt_res(bmi_value, str_cate=\"體重過輕\")\n",
    "    \n",
    "elif 18.5 < bmi_value < 24:\n",
    "    prt_res(bmi_value, str_cate=\"正常範圍\")\n",
    "    \n",
    "elif 24 <= bmi_value < 27:\n",
    "    prt_res(bmi_value, str_cate=\"過重\")\n",
    "    \n",
    "elif 27 <= bmi_value < 30:\n",
    "    prt_res(bmi_value, str_cate=\"輕度肥胖\")\n",
    "    \n",
    "elif 30 <= bmi_value < 35:\n",
    "    prt_res(bmi_value, str_cate=\"中度肥胖\")\n",
    "    \n",
    "elif 35 < bmi_value:\n",
    "    prt_res(bmi_value, str_cate=\"重度肥胖\")\n"
   ]
  },
  {
   "cell_type": "code",
   "execution_count": 17,
   "metadata": {},
   "outputs": [
    {
     "name": "stdout",
     "output_type": "stream",
     "text": [
      "你的BMI: 60, 重度肥胖\n"
     ]
    }
   ],
   "source": [
    "bmi_value = 60\n",
    "\n",
    "if  bmi_value < 18.5:\n",
    "    prt_res(bmi_value, str_cate=\"體重過輕\")\n",
    "    \n",
    "elif bmi_value < 24:\n",
    "    prt_res(bmi_value, str_cate=\"正常範圍\")\n",
    "    \n",
    "elif bmi_value < 27:\n",
    "    prt_res(bmi_value, str_cate=\"過重\")\n",
    "    \n",
    "elif bmi_value < 30:\n",
    "    prt_res(bmi_value, str_cate=\"輕度肥胖\")\n",
    "    \n",
    "elif bmi_value < 35:\n",
    "    prt_res(bmi_value, str_cate=\"中度肥胖\")\n",
    "    \n",
    "else:  # elif 35 < bmi_value:\n",
    "    prt_res(bmi_value, str_cate=\"重度肥胖\")\n"
   ]
  },
  {
   "cell_type": "code",
   "execution_count": 1,
   "metadata": {},
   "outputs": [
    {
     "name": "stdout",
     "output_type": "stream",
     "text": [
      "The Zen of Python, by Tim Peters\n",
      "\n",
      "Beautiful is better than ugly.\n",
      "Explicit is better than implicit.\n",
      "Simple is better than complex.\n",
      "Complex is better than complicated.\n",
      "Flat is better than nested.\n",
      "Sparse is better than dense.\n",
      "Readability counts.\n",
      "Special cases aren't special enough to break the rules.\n",
      "Although practicality beats purity.\n",
      "Errors should never pass silently.\n",
      "Unless explicitly silenced.\n",
      "In the face of ambiguity, refuse the temptation to guess.\n",
      "There should be one-- and preferably only one --obvious way to do it.\n",
      "Although that way may not be obvious at first unless you're Dutch.\n",
      "Now is better than never.\n",
      "Although never is often better than *right* now.\n",
      "If the implementation is hard to explain, it's a bad idea.\n",
      "If the implementation is easy to explain, it may be a good idea.\n",
      "Namespaces are one honking great idea -- let's do more of those!\n"
     ]
    }
   ],
   "source": [
    "import this\n"
   ]
  },
  {
   "cell_type": "code",
   "execution_count": null,
   "metadata": {},
   "outputs": [],
   "source": []
  },
  {
   "cell_type": "code",
   "execution_count": null,
   "metadata": {},
   "outputs": [],
   "source": []
  }
 ],
 "metadata": {
  "kernelspec": {
   "display_name": "Python 3",
   "language": "python",
   "name": "python3"
  },
  "language_info": {
   "codemirror_mode": {
    "name": "ipython",
    "version": 3
   },
   "file_extension": ".py",
   "mimetype": "text/x-python",
   "name": "python",
   "nbconvert_exporter": "python",
   "pygments_lexer": "ipython3",
   "version": "3.7.3"
  }
 },
 "nbformat": 4,
 "nbformat_minor": 2
}

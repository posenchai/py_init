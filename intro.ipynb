{
 "cells": [
  {
   "cell_type": "markdown",
   "metadata": {
    "slideshow": {
     "slide_type": "slide"
    }
   },
   "source": [
    "# Python intro."
   ]
  },
  {
   "cell_type": "markdown",
   "metadata": {
    "slideshow": {
     "slide_type": "subslide"
    }
   },
   "source": [
    "# type\n",
    "\n",
    "- int\n",
    "- float\n",
    "- str\n",
    "- ...\n",
    "\n"
   ]
  },
  {
   "cell_type": "code",
   "execution_count": 1,
   "metadata": {
    "slideshow": {
     "slide_type": "subslide"
    }
   },
   "outputs": [
    {
     "name": "stdout",
     "output_type": "stream",
     "text": [
      "int_a: 1, \n",
      "  type: <class 'int'>\n",
      "\n",
      "float_a: 0.5, \n",
      "  type: <class 'float'>\n",
      "\n",
      "str_a: This is a string, \n",
      "  type: <class 'str'>\n"
     ]
    }
   ],
   "source": [
    "# py不用宣告型態，想要什麼型台直接一個等於就可以宣告\n",
    "\n",
    "int_a = 1\n",
    "\n",
    "float_a = 0.5\n",
    "\n",
    "str_a = \"This is a string\"\n",
    "\n",
    "print(f\"int_a: {int_a}, \\n  type: {type(int_a)}\\n\\n\" \\\n",
    "      f\"float_a: {float_a}, \\n  type: {type(float_a)}\\n\\n\" \\\n",
    "      f\"str_a: {str_a}, \\n  type: {type(str_a)}\"\n",
    "     )"
   ]
  },
  {
   "cell_type": "markdown",
   "metadata": {
    "slideshow": {
     "slide_type": "subslide"
    }
   },
   "source": [
    "# 數組type\n",
    "\n",
    "- list\n",
    "- dict\n",
    "- tuple\n",
    "- set"
   ]
  },
  {
   "cell_type": "code",
   "execution_count": null,
   "metadata": {},
   "outputs": [],
   "source": [
    "# list"
   ]
  },
  {
   "cell_type": "code",
   "execution_count": 3,
   "metadata": {},
   "outputs": [
    {
     "data": {
      "text/plain": [
       "[1, 's', 3, 66, 'aa', 's']"
      ]
     },
     "execution_count": 3,
     "metadata": {},
     "output_type": "execute_result"
    }
   ],
   "source": [
    "lst_a = [1, 's', 3, 66, 'aa', \"s\"]\n",
    "lst_a"
   ]
  },
  {
   "cell_type": "code",
   "execution_count": 4,
   "metadata": {},
   "outputs": [
    {
     "data": {
      "text/plain": [
       "[1, 's', 3, 66, 'aa']"
      ]
     },
     "execution_count": 4,
     "metadata": {},
     "output_type": "execute_result"
    }
   ],
   "source": [
    "# 切片\n",
    "lst_a[:5]"
   ]
  },
  {
   "cell_type": "code",
   "execution_count": 6,
   "metadata": {},
   "outputs": [
    {
     "data": {
      "text/plain": [
       "789"
      ]
     },
     "execution_count": 6,
     "metadata": {},
     "output_type": "execute_result"
    }
   ],
   "source": [
    "dict_a[\"keyNm3\"]"
   ]
  },
  {
   "cell_type": "code",
   "execution_count": 20,
   "metadata": {},
   "outputs": [
    {
     "data": {
      "text/plain": [
       "range(6, 10, 3)"
      ]
     },
     "execution_count": 20,
     "metadata": {},
     "output_type": "execute_result"
    }
   ],
   "source": [
    "range(6, 10, 3)\n",
    "# 0\n",
    "# 1\n",
    "# 2\n",
    "# ...\n",
    "# 9\n"
   ]
  },
  {
   "cell_type": "code",
   "execution_count": 28,
   "metadata": {
    "scrolled": true
   },
   "outputs": [],
   "source": [
    "lst_1_10 = []\n",
    "for i in range(0, 101):\n",
    "    if i % 2 == 0:\n",
    "#         %: mod : 取餘數\n",
    "        lst_1_10.append(i)\n",
    "    elif ......:\n",
    "        do ...\n",
    "    else:\n",
    "        pass\n",
    "# lst_1_10"
   ]
  },
  {
   "cell_type": "code",
   "execution_count": 29,
   "metadata": {},
   "outputs": [],
   "source": [
    "# lst_1_10 = [1,2, ....]\n",
    "# list compre...\n",
    "lst_1_10 = [i for i in range(0, 101) if i % 2 == 0]\n",
    "\n",
    "# lst_1_10\n"
   ]
  },
  {
   "cell_type": "code",
   "execution_count": 11,
   "metadata": {
    "slideshow": {
     "slide_type": "subslide"
    }
   },
   "outputs": [
    {
     "name": "stdout",
     "output_type": "stream",
     "text": [
      "lst_a: [1, 's', 3, 66, 'aa', ['list in a list', 2, 5]], \n",
      "  type: <class 'list'>\n",
      "\n",
      "dict_a: {'keyNm1': 123, 'keyNm2': 456, 'keyNm3': 789, 'keyNm4': 'Hahahaha'}, \n",
      "  type: <class 'dict'>\n",
      "\n",
      "tuple_a: ('This', 'is', 'a', 'tuple'), \n",
      "  type: <class 'tuple'>\n",
      "\n",
      "set_a: {'b', 'c', 'a'}, \n",
      "  type: <class 'set'>\n"
     ]
    }
   ],
   "source": [
    "lst_a = [1, \"s\", 3, 66, \"aa\", [\"list in a list\", 2, 5, ]]\n",
    "\n",
    "dict_a = {\"keyNm1\": 123,\n",
    "          \"keyNm2\": 456,\n",
    "          \"keyNm3\": 789,\n",
    "          \"keyNm4\": \"Hahahaha\",\n",
    "         }\n",
    "\n",
    "tuple_a = (\"This\", \"is\", \"a\", \"tuple\")\n",
    "\n",
    "set_a = {\"a\", \"b\", \"c\", \"a\"}\n",
    "\n",
    "print(f\"lst_a: {lst_a}, \\n  type: {type(lst_a)}\\n\\n\" \\\n",
    "      f\"dict_a: {dict_a}, \\n  type: {type(dict_a)}\\n\\n\" \\\n",
    "      f\"tuple_a: {tuple_a}, \\n  type: {type(tuple_a)}\\n\\n\" \\\n",
    "      f\"set_a: {set_a}, \\n  type: {type(set_a)}\"\n",
    "     )"
   ]
  },
  {
   "cell_type": "code",
   "execution_count": null,
   "metadata": {},
   "outputs": [],
   "source": []
  },
  {
   "cell_type": "markdown",
   "metadata": {
    "slideshow": {
     "slide_type": "subslide"
    }
   },
   "source": [
    "# 流程控制\n",
    "\n",
    "- if, elif, else\n",
    "- for, while\n"
   ]
  },
  {
   "cell_type": "code",
   "execution_count": 55,
   "metadata": {},
   "outputs": [
    {
     "name": "stdout",
     "output_type": "stream",
     "text": [
      "int_grade: 78\n",
      " ha\n",
      "hahaha ...\n"
     ]
    }
   ],
   "source": [
    "# print(int_grade)\n",
    "\n",
    "# print(\"int_grade:\", int_grade)\n",
    "# a = \"aaa\"\n",
    "# b = \"bbbb\"\n",
    "\n",
    "# fl_a = 0.234234534263456\n",
    "\n",
    "# print(\"int_grade: %.2f %s %s\" %(fl_a, b, a))\n",
    "\n",
    "print(f\"int_grade: {int_grade}\\n ha\\nhahaha ...\")\n"
   ]
  },
  {
   "cell_type": "code",
   "execution_count": 35,
   "metadata": {
    "slideshow": {
     "slide_type": "subslide"
    }
   },
   "outputs": [
    {
     "name": "stdout",
     "output_type": "stream",
     "text": [
      "pass....\n"
     ]
    }
   ],
   "source": [
    "int_grade = 78\n",
    "\n",
    "int_pass = 60\n",
    "\n",
    "int_A_class = 90\n",
    "int_B_class = 85\n",
    "int_C_class = 80\n",
    "\n",
    "\n",
    "if int_grade > int_A_class:\n",
    "    print(\"you got A\")\n",
    "    \n",
    "elif int_grade > int_B_class:\n",
    "    print(\"you got B\")\n",
    "    \n",
    "elif int_grade > int_C_class:\n",
    "    print(\"you got C\")\n",
    "    \n",
    "elif int_grade > int_pass:\n",
    "    print(\"pass....\")\n",
    "    \n",
    "else:\n",
    "    print(f\"Ur scroe is {int_grade}, call me maybe.\")\n",
    "    \n"
   ]
  },
  {
   "cell_type": "code",
   "execution_count": 76,
   "metadata": {},
   "outputs": [
    {
     "data": {
      "text/plain": [
       "1"
      ]
     },
     "execution_count": 76,
     "metadata": {},
     "output_type": "execute_result"
    }
   ],
   "source": [
    "round(0.51)"
   ]
  },
  {
   "cell_type": "code",
   "execution_count": 86,
   "metadata": {},
   "outputs": [
    {
     "name": "stdout",
     "output_type": "stream",
     "text": [
      "hi\n"
     ]
    }
   ],
   "source": [
    "a = prt()"
   ]
  },
  {
   "cell_type": "code",
   "execution_count": 87,
   "metadata": {},
   "outputs": [
    {
     "data": {
      "text/plain": [
       "'hi'"
      ]
     },
     "execution_count": 87,
     "metadata": {},
     "output_type": "execute_result"
    }
   ],
   "source": [
    "a"
   ]
  },
  {
   "cell_type": "code",
   "execution_count": 97,
   "metadata": {},
   "outputs": [],
   "source": [
    "def prt():\n",
    "    print(\"hi\")\n",
    "    return \"hi\"\n",
    "    \n",
    "def modify_score(int_grade):\n",
    "#     return round(int_grade ** 0.5 * 10)\n",
    "    return int_grade ** 0.5 * 10"
   ]
  },
  {
   "cell_type": "code",
   "execution_count": 98,
   "metadata": {},
   "outputs": [
    {
     "data": {
      "text/plain": [
       "81.24038404635961"
      ]
     },
     "execution_count": 98,
     "metadata": {},
     "output_type": "execute_result"
    }
   ],
   "source": [
    "modify_score(66)"
   ]
  },
  {
   "cell_type": "code",
   "execution_count": 99,
   "metadata": {},
   "outputs": [
    {
     "data": {
      "text/plain": [
       "[91.6515138991168,\n",
       " 94.86832980505139,\n",
       " 93.8083151964686,\n",
       " 87.17797887081348,\n",
       " 70.71067811865476,\n",
       " 66.33249580710799,\n",
       " 58.309518948453004,\n",
       " 97.97958971132712]"
      ]
     },
     "execution_count": 99,
     "metadata": {},
     "output_type": "execute_result"
    }
   ],
   "source": [
    "lst_ans = [modify_score(vc) for vc in lst_grades]\n",
    "lst_ans"
   ]
  },
  {
   "cell_type": "code",
   "execution_count": 73,
   "metadata": {},
   "outputs": [
    {
     "name": "stdout",
     "output_type": "stream",
     "text": [
      "97.97958971132712 98\n"
     ]
    }
   ],
   "source": [
    "a = gd ** 0.5 * 10\n",
    "\n",
    "\n",
    "print(a, round(a))"
   ]
  },
  {
   "cell_type": "code",
   "execution_count": 68,
   "metadata": {
    "slideshow": {
     "slide_type": "subslide"
    }
   },
   "outputs": [
    {
     "name": "stdout",
     "output_type": "stream",
     "text": [
      "1 84\n",
      "91.6515138991168\n",
      "2 90\n",
      "94.86832980505139\n",
      "3 88\n",
      "93.8083151964686\n",
      "4 76\n",
      "87.17797887081348\n",
      "5 50\n",
      "70.71067811865476\n",
      "6 44\n",
      "66.33249580710799\n",
      "7 34\n",
      "58.309518948453004\n",
      "8 96\n",
      "97.97958971132712\n"
     ]
    }
   ],
   "source": [
    "lst_grades = [84, 90, 88, 76, 50, 44, 34, 96]\n",
    "\n",
    "lst_ans = []\n",
    "\n",
    "for idx, gd in enumerate(lst_grades, 1):\n",
    "    print(idx, gd)\n",
    "    print(gd ** 0.5 * 10)\n",
    "    lst_ans.append(gd ** 0.5 * 10)\n",
    "# lst_ans"
   ]
  },
  {
   "cell_type": "code",
   "execution_count": 77,
   "metadata": {},
   "outputs": [],
   "source": [
    "# lst_ans"
   ]
  },
  {
   "cell_type": "code",
   "execution_count": null,
   "metadata": {},
   "outputs": [],
   "source": []
  }
 ],
 "metadata": {
  "celltoolbar": "Slideshow",
  "kernelspec": {
   "display_name": "Python 3",
   "language": "python",
   "name": "python3"
  },
  "language_info": {
   "codemirror_mode": {
    "name": "ipython",
    "version": 3
   },
   "file_extension": ".py",
   "mimetype": "text/x-python",
   "name": "python",
   "nbconvert_exporter": "python",
   "pygments_lexer": "ipython3",
   "version": "3.7.3"
  }
 },
 "nbformat": 4,
 "nbformat_minor": 2
}

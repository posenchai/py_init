{
 "cells": [
  {
   "cell_type": "code",
   "execution_count": null,
   "metadata": {},
   "outputs": [],
   "source": [
    "# import 套件，通常會把這隻程式會用到的套件名稱寫在最上方\n",
    "from os import listdir\n",
    "from os.path import isfile, isdir, join, getmtime, getctime\n",
    "from datetime import datetime\n",
    "\n",
    "import pandas as pd"
   ]
  },
  {
   "cell_type": "code",
   "execution_count": null,
   "metadata": {},
   "outputs": [],
   "source": [
    "def get_file_info(fPath):\n",
    "    dic_ans = {\n",
    "        \"檔案路徑\": fPath,\n",
    "        \"檔名\": fPath.split(\"\\\\\")[-1],\n",
    "        \"修改日期\": datetime.fromtimestamp(getmtime(fPath)).strftime(\"%Y-%m-%d_%H.%M.%S\"),\n",
    "        \"產生日期\": datetime.fromtimestamp(getctime(fPath)).strftime(\"%Y-%m-%d_%H.%M.%S\"),\n",
    "        \"副檔名\": \"\",\n",
    "        \"is資料夾\": True\n",
    "    }\n",
    "    \n",
    "    if not isdir(fPath):\n",
    "        dic_ans.update({\n",
    "            \"副檔名\": fPath.split(\".\")[-1],\n",
    "            \"is資料夾\": False,\n",
    "        })\n",
    "    return dic_ans"
   ]
  },
  {
   "cell_type": "code",
   "execution_count": null,
   "metadata": {},
   "outputs": [],
   "source": [
    "# path目錄：指定\"列出資料夾內容清單\"的路徑\n",
    "path = r\"D:\\PopoJupyter\"\n",
    "lst_child_path0 = listdir(path)  # 使用os裡的listdir方法得到資料夾底下的文件清單\n",
    "lst_child_path = [join(path, ans) for ans in lst_child_path0]"
   ]
  },
  {
   "cell_type": "code",
   "execution_count": null,
   "metadata": {},
   "outputs": [],
   "source": [
    "form = pd.DataFrame.from_dict([get_file_info(f) for f in lst_child_path])\n",
    "lst_cols = [\"檔名\", \"檔案路徑\", \"副檔名\", \"產生日期\", \"修改日期\", \"is資料夾\"]\n",
    "\n",
    "form = form[lst_cols]\n",
    "form.head()"
   ]
  },
  {
   "cell_type": "code",
   "execution_count": null,
   "metadata": {},
   "outputs": [],
   "source": [
    "print(f\"  >> 資料筆數：{len(form)}\")"
   ]
  },
  {
   "cell_type": "code",
   "execution_count": null,
   "metadata": {},
   "outputs": [],
   "source": [
    "fNm = \"file_info\"\n",
    "file_date = datetime.now().strftime(\"%Y%m%d_%H.%M.%S\")\n",
    "fNm_with_dt = f\"{fNm}_{file_date}.csv\"\n",
    "form.to_csv(fNm_with_dt, encoding=\"utf_8_sig\", index=False)\n",
    "print(f\" ==輸出備份csv== ::: {fNm_with_dt}\")"
   ]
  }
 ],
 "metadata": {
  "kernelspec": {
   "display_name": "Python 3",
   "language": "python",
   "name": "python3"
  },
  "language_info": {
   "codemirror_mode": {
    "name": "ipython",
    "version": 3
   },
   "file_extension": ".py",
   "mimetype": "text/x-python",
   "name": "python",
   "nbconvert_exporter": "python",
   "pygments_lexer": "ipython3",
   "version": "3.7.3"
  }
 },
 "nbformat": 4,
 "nbformat_minor": 2
}

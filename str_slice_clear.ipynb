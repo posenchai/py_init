{
 "cells": [
  {
   "cell_type": "code",
   "execution_count": 35,
   "metadata": {},
   "outputs": [],
   "source": []
  },
  {
   "cell_type": "code",
   "execution_count": 3,
   "metadata": {},
   "outputs": [],
   "source": [
    "def clr_str(str_val):\n",
    "    pre_type = None\n",
    "    lst_slice = []\n",
    "    for idx, per_str in enumerate(str_val):\n",
    "        this_type = per_str.isdigit()\n",
    "        if pre_type is  None:\n",
    "            print(\"1st\")\n",
    "            lst_slice.append(0)\n",
    "        else:\n",
    "            if pre_type != this_type:\n",
    "                lst_slice.append(idx)\n",
    "        pre_type = this_type\n",
    "    \n",
    "    if lst_slice[-1] != len(str_val):\n",
    "        lst_slice.append(len(str_val))\n",
    "    return [str_val[lst_slice[i]:lst_slice[i+1]] for i in range(len(lst_slice)-1)]"
   ]
  },
  {
   "cell_type": "code",
   "execution_count": 4,
   "metadata": {},
   "outputs": [
    {
     "name": "stdout",
     "output_type": "stream",
     "text": [
      "1st\n"
     ]
    }
   ],
   "source": [
    "str_for_clean = \"3234VFWs2\"\n",
    "lst_ans = clr_str(str_for_clean)"
   ]
  },
  {
   "cell_type": "code",
   "execution_count": 5,
   "metadata": {},
   "outputs": [
    {
     "data": {
      "text/plain": [
       "['3234', 'VFWs', '2']"
      ]
     },
     "execution_count": 5,
     "metadata": {},
     "output_type": "execute_result"
    }
   ],
   "source": [
    "lst_ans"
   ]
  },
  {
   "cell_type": "code",
   "execution_count": null,
   "metadata": {},
   "outputs": [],
   "source": []
  }
 ],
 "metadata": {
  "kernelspec": {
   "display_name": "Python 3",
   "language": "python",
   "name": "python3"
  },
  "language_info": {
   "codemirror_mode": {
    "name": "ipython",
    "version": 3
   },
   "file_extension": ".py",
   "mimetype": "text/x-python",
   "name": "python",
   "nbconvert_exporter": "python",
   "pygments_lexer": "ipython3",
   "version": "3.7.3"
  }
 },
 "nbformat": 4,
 "nbformat_minor": 2
}

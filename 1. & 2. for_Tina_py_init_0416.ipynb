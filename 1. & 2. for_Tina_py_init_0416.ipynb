{
 "cells": [
  {
   "cell_type": "code",
   "execution_count": null,
   "metadata": {},
   "outputs": [],
   "source": [
    "1. why:\n",
    "    py可以做什麼:\n",
    "        目標：job? \n",
    "                工程師? X\n",
    "                PM （popo） VV\n",
    "                資料分析 VV (ㄗ) -> data sicence資料科學家?? (要會數學)機器學習，演算法\n",
    "                資料分析屍 1.5~2人 -> 1人可解決\n",
    "                ？？？\n",
    "                \n",
    "            興趣?\n",
    "                可以從[資料分析], [爬蟲]開始\n",
    "                [資料分析] 進階操作excel的樂趣\n",
    "                [爬蟲] 好玩, 要熟html  \"https://www.largitdata.com/course_list/1\" 找安裝jupyter的教學\n",
    "                \n",
    "看得到效果很重要!!\n",
    "\n",
    "html 大坑，aka前端，javascript 效果--\n",
    "前端工程師\n",
    "花錢學“程式”：要學到解決問題的方法\n",
    "\n",
    "軟體eng. 具備解決問題的方法：下關鍵字、基本功（學業、實務的累積）\n",
    "\n",
    "\n",
    "2. if \n"
   ]
  },
  {
   "cell_type": "code",
   "execution_count": null,
   "metadata": {},
   "outputs": [],
   "source": [
    "2.0 py init\n",
    "\n",
    "ide「編輯編譯器」（工具）: \n",
    "    Jupyter 資料分析:: 安裝Anaconda\n",
    "    Pycharm: 主要開發工具ＶＶＶ\n",
    "    Sublime\n",
    "    TXT -> .py\n",
    "    \n",
    "    "
   ]
  },
  {
   "cell_type": "code",
   "execution_count": null,
   "metadata": {},
   "outputs": [],
   "source": [
    "程式語言"
   ]
  },
  {
   "cell_type": "code",
   "execution_count": 105,
   "metadata": {},
   "outputs": [],
   "source": []
  },
  {
   "cell_type": "code",
   "execution_count": null,
   "metadata": {},
   "outputs": [],
   "source": [
    "1. 資料型態(int, float, str, bool), (list, tuple, dict)\n",
    "1.1 py 關鍵字 =, ==, <, >, !=,\n",
    "2. 流程控制（if-else, for）\n",
    "3. py: 套件的使用: import numpy"
   ]
  },
  {
   "cell_type": "code",
   "execution_count": null,
   "metadata": {},
   "outputs": [],
   "source": [
    "# py不用宣告型態：方便，慢"
   ]
  },
  {
   "cell_type": "code",
   "execution_count": null,
   "metadata": {},
   "outputs": [],
   "source": [
    "# C, java\n",
    "int a = 1\n",
    "\n",
    "a = \"s\""
   ]
  },
  {
   "cell_type": "code",
   "execution_count": null,
   "metadata": {},
   "outputs": [],
   "source": [
    "# 資料型態：容器\n",
    "(int, float, str, bool), (list, tuple, dict)\n",
    "\n",
    "list: 列表 != array， numpy\n",
    "tuple: ＸＸ\n",
    "dict: 字典\n",
    "\n",
    "# TODO:\n",
    "# 變數命名的規範\n",
    "# # return\n",
    "# 切片！！\n",
    "\n",
    "# range\n",
    "# enumerate"
   ]
  },
  {
   "cell_type": "code",
   "execution_count": null,
   "metadata": {},
   "outputs": [],
   "source": [
    "[1, 3, \"s\", [\"sss\"]]"
   ]
  },
  {
   "cell_type": "code",
   "execution_count": null,
   "metadata": {},
   "outputs": [],
   "source": [
    "二維：array\n",
    "[\n",
    "    [],\n",
    "    [],\n",
    "    []\n",
    "]"
   ]
  },
  {
   "cell_type": "code",
   "execution_count": 39,
   "metadata": {},
   "outputs": [],
   "source": [
    "int_a = 1\n",
    "# assign\n",
    "str_b = \"hello\"\n",
    "lst_c = [1, 3, \"s\", [\"sss\"], (3, 4, 5)] # 可擴展 <-> tup list()\n",
    "tup_d = (3, 4, 5) # N擴展  tuple()\n",
    "dic_f = {  # dict()\n",
    "    \"key\": \"value\",\n",
    "    \"查詢店名關鍵字\": \"123\",\n",
    "    \"url\": \"345\",\n",
    "    \"status\": \"123546\",\n",
    "    \"店名\": \"34534\",\n",
    "    \"星星數\": \"12321\",\n",
    "    \"評論_cnt\": \"\",\n",
    "    \"外送\": \"\",\n",
    "    \"電話\": \"\",\n",
    "    \"地址\": \"\",\n",
    "    \"營業時間\": \"\",\n",
    "    \"備份地圖卡\": \"\",\n",
    "}"
   ]
  },
  {
   "cell_type": "code",
   "execution_count": 54,
   "metadata": {},
   "outputs": [
    {
     "data": {
      "text/plain": [
       "['s', ['sss'], (3, 4, 5)]"
      ]
     },
     "execution_count": 54,
     "metadata": {},
     "output_type": "execute_result"
    }
   ],
   "source": [
    "# 切片\n",
    "lst_c[:3]  # 0~3: 0, 1, 2\n",
    "lst_c[3:]  # 3:: from 4 to tail\n",
    "lst_c[2:5] # 2:5    2, 3, 4"
   ]
  },
  {
   "cell_type": "code",
   "execution_count": 40,
   "metadata": {},
   "outputs": [
    {
     "data": {
      "text/plain": [
       "'123'"
      ]
     },
     "execution_count": 40,
     "metadata": {},
     "output_type": "execute_result"
    }
   ],
   "source": [
    "dic_f[\"查詢店名關鍵字\"]  # 取直"
   ]
  },
  {
   "cell_type": "code",
   "execution_count": 49,
   "metadata": {},
   "outputs": [],
   "source": [
    "lst_c.append([\"haha\"])  # list添加的方法"
   ]
  },
  {
   "cell_type": "code",
   "execution_count": 46,
   "metadata": {},
   "outputs": [
    {
     "data": {
      "text/plain": [
       "(3, 4, 5)"
      ]
     },
     "execution_count": 46,
     "metadata": {},
     "output_type": "execute_result"
    }
   ],
   "source": [
    "tup_d"
   ]
  },
  {
   "cell_type": "code",
   "execution_count": 57,
   "metadata": {},
   "outputs": [
    {
     "data": {
      "text/plain": [
       "[1, 3, 's', ['sss'], (3, 4, 5), ['haha'], ['haha'], ['haha']]"
      ]
     },
     "execution_count": 57,
     "metadata": {},
     "output_type": "execute_result"
    }
   ],
   "source": [
    "lst_c"
   ]
  },
  {
   "cell_type": "code",
   "execution_count": 60,
   "metadata": {},
   "outputs": [
    {
     "data": {
      "text/plain": [
       "'sssss'"
      ]
     },
     "execution_count": 60,
     "metadata": {},
     "output_type": "execute_result"
    }
   ],
   "source": [
    "a = \"sssss\"\n",
    "a"
   ]
  },
  {
   "cell_type": "code",
   "execution_count": 34,
   "metadata": {},
   "outputs": [
    {
     "data": {
      "text/plain": [
       "dict"
      ]
     },
     "execution_count": 34,
     "metadata": {},
     "output_type": "execute_result"
    }
   ],
   "source": [
    "type(dic_f) # 查看型態的方法"
   ]
  },
  {
   "cell_type": "code",
   "execution_count": 61,
   "metadata": {},
   "outputs": [
    {
     "data": {
      "text/plain": [
       "5"
      ]
     },
     "execution_count": 61,
     "metadata": {},
     "output_type": "execute_result"
    }
   ],
   "source": [
    "len(a)"
   ]
  },
  {
   "cell_type": "code",
   "execution_count": 55,
   "metadata": {},
   "outputs": [],
   "source": [
    "# 2. 流程控制（if-else, for）\n",
    "\n",
    "# if-else : 壹定要想清楚，你的需求之外，還有沒有其他可能！！！！！！\n",
    "# 讓所有的小朋友都有該去的地方/路\n",
    "# bug: 很難解，執行正常，但結果錯誤"
   ]
  },
  {
   "cell_type": "code",
   "execution_count": 65,
   "metadata": {},
   "outputs": [
    {
     "name": "stdout",
     "output_type": "stream",
     "text": [
      "sssss, sssss\n"
     ]
    }
   ],
   "source": [
    "print(a, end=\", \") # 自帶換行/ init : end=\"\\n\" # attr\n",
    "print(a) # 自帶換行"
   ]
  },
  {
   "cell_type": "code",
   "execution_count": 68,
   "metadata": {},
   "outputs": [
    {
     "data": {
      "text/plain": [
       "[1, 3, 's', ['sss'], (3, 4, 5), ['haha'], ['haha'], ['haha']]"
      ]
     },
     "execution_count": 68,
     "metadata": {},
     "output_type": "execute_result"
    }
   ],
   "source": [
    "lst_c"
   ]
  },
  {
   "cell_type": "code",
   "execution_count": 67,
   "metadata": {},
   "outputs": [
    {
     "name": "stdout",
     "output_type": "stream",
     "text": [
      "1, 3, s, ['sss'], (3, 4, 5), ['haha'], ['haha'], ['haha'], "
     ]
    }
   ],
   "source": [
    "for AAA in lst_c:  # in 迭代的內容，被屬數量\n",
    "    print(AAA, end=\", \")"
   ]
  },
  {
   "cell_type": "code",
   "execution_count": null,
   "metadata": {},
   "outputs": [],
   "source": []
  },
  {
   "cell_type": "code",
   "execution_count": 98,
   "metadata": {},
   "outputs": [],
   "source": [
    "lst_stu_no = []\n",
    "for iter_item in range(1, 31):  # in 迭代的內容，被屬數量\n",
    "    lst_stu_no.append(iter_item)\n",
    "\n",
    "# while "
   ]
  },
  {
   "cell_type": "code",
   "execution_count": 77,
   "metadata": {},
   "outputs": [
    {
     "data": {
      "text/plain": [
       "1"
      ]
     },
     "execution_count": 77,
     "metadata": {},
     "output_type": "execute_result"
    }
   ],
   "source": [
    "1 % 2  # 曲妤束 mod"
   ]
  },
  {
   "cell_type": "code",
   "execution_count": null,
   "metadata": {},
   "outputs": [],
   "source": [
    "# 找到odd"
   ]
  },
  {
   "cell_type": "code",
   "execution_count": 100,
   "metadata": {},
   "outputs": [
    {
     "name": "stdout",
     "output_type": "stream",
     "text": [
      "[1, 2, 3, 4, 5, 6, 7, 8, 9, 10, 11, 12, 13, 14, 15, 16, 17, 18, 19, 20, 21, 22, 23, 24, 25, 26, 27, 28, 29, 30]\n"
     ]
    }
   ],
   "source": [
    "print(lst_stu_no)"
   ]
  },
  {
   "cell_type": "code",
   "execution_count": 102,
   "metadata": {
    "collapsed": true,
    "jupyter": {
     "outputs_hidden": true
    }
   },
   "outputs": [
    {
     "name": "stdout",
     "output_type": "stream",
     "text": [
      "垃圾!!!! per_no:: 1\n",
      "垃圾!!!! per_no:: 2\n",
      "3的倍數!!!! per_no:: 3\n",
      "垃圾!!!! per_no:: 4\n",
      "5的倍數!!!! per_no:: 5\n",
      "3的倍數!!!! per_no:: 6\n",
      "7的倍數!!!! per_no:: 7\n",
      "垃圾!!!! per_no:: 8\n",
      "3的倍數!!!! per_no:: 9\n",
      "5的倍數!!!! per_no:: 10\n",
      "垃圾!!!! per_no:: 11\n",
      "3的倍數!!!! per_no:: 12\n",
      "垃圾!!!! per_no:: 13\n",
      "7的倍數!!!! per_no:: 14\n",
      "3的倍數!!!! per_no:: 15\n",
      "垃圾!!!! per_no:: 16\n",
      "垃圾!!!! per_no:: 17\n",
      "3的倍數!!!! per_no:: 18\n",
      "垃圾!!!! per_no:: 19\n",
      "5的倍數!!!! per_no:: 20\n",
      "3的倍數!!!! per_no:: 21\n",
      "垃圾!!!! per_no:: 22\n",
      "垃圾!!!! per_no:: 23\n",
      "3的倍數!!!! per_no:: 24\n",
      "5的倍數!!!! per_no:: 25\n",
      "垃圾!!!! per_no:: 26\n",
      "3的倍數!!!! per_no:: 27\n",
      "7的倍數!!!! per_no:: 28\n",
      "垃圾!!!! per_no:: 29\n",
      "3的倍數!!!! per_no:: 30\n"
     ]
    }
   ],
   "source": [
    "lst_tri_no = []\n",
    "for per_no in lst_stu_no:\n",
    "#     per_no = 15\n",
    "#     per_no is odd？ 需求\n",
    "    if per_no % 3 == 0:\n",
    "        lst_tri_no.append(per_no)\n",
    "        print(\"3的倍數!!!! per_no::\", per_no)\n",
    "\n",
    "    elif per_no % 5 == 0:  # 否則\n",
    "        pass  # 為了敘述合法\n",
    "        print(\"5的倍數!!!! per_no::\", per_no)\n",
    "        \n",
    "    elif per_no % 7 == 0:  # 否則\n",
    "        print(\"7的倍數!!!! per_no::\", per_no)\n",
    "        \n",
    "    else:\n",
    "        print(\"垃圾!!!! per_no::\", per_no)"
   ]
  },
  {
   "cell_type": "code",
   "execution_count": 103,
   "metadata": {},
   "outputs": [
    {
     "name": "stdout",
     "output_type": "stream",
     "text": [
      "[1, 2, 3, 4, 5, 6, 7, 8, 9, 10, 11, 12, 13, 14, 15, 16, 17, 18, 19, 20, 21, 22, 23, 24, 25, 26, 27, 28, 29, 30]\n"
     ]
    }
   ],
   "source": [
    "print(lst_stu_no)"
   ]
  },
  {
   "cell_type": "code",
   "execution_count": 104,
   "metadata": {},
   "outputs": [
    {
     "name": "stdout",
     "output_type": "stream",
     "text": [
      "0 垃圾!!!! per_no:: 1\n",
      "1 垃圾!!!! per_no:: 2\n",
      "2 3的倍數!!!! per_no:: 3\n",
      "3 垃圾!!!! per_no:: 4\n",
      "4 5的倍數!!!! per_no:: 5\n",
      "5 3的倍數!!!! per_no:: 6\n",
      "6 7的倍數!!!! per_no:: 7\n",
      "7 垃圾!!!! per_no:: 8\n",
      "8 3的倍數!!!! per_no:: 9\n",
      "9 5的倍數!!!! per_no:: 10\n",
      "10 垃圾!!!! per_no:: 11\n",
      "11 3的倍數!!!! per_no:: 12\n",
      "12 垃圾!!!! per_no:: 13\n",
      "13 7的倍數!!!! per_no:: 14\n",
      "14 3的倍數!!!! per_no:: 15\n",
      "15 垃圾!!!! per_no:: 16\n",
      "16 垃圾!!!! per_no:: 17\n",
      "17 3的倍數!!!! per_no:: 18\n",
      "18 垃圾!!!! per_no:: 19\n",
      "19 5的倍數!!!! per_no:: 20\n",
      "20 3的倍數!!!! per_no:: 21\n",
      "21 垃圾!!!! per_no:: 22\n",
      "22 垃圾!!!! per_no:: 23\n",
      "23 3的倍數!!!! per_no:: 24\n",
      "24 5的倍數!!!! per_no:: 25\n",
      "25 垃圾!!!! per_no:: 26\n",
      "26 3的倍數!!!! per_no:: 27\n",
      "27 7的倍數!!!! per_no:: 28\n",
      "28 垃圾!!!! per_no:: 29\n",
      "29 3的倍數!!!! per_no:: 30\n"
     ]
    }
   ],
   "source": [
    "lst_tri_no = []\n",
    "for enumer_idx, per_no in enumerate(lst_stu_no):  # enumerate 給迭代物 index/標號\n",
    "#     per_no = 15\n",
    "#     per_no is odd？ 需求\n",
    "    if per_no % 3 == 0:\n",
    "        lst_tri_no.append(per_no)\n",
    "        print(enumer_idx, \"3的倍數!!!! per_no::\", per_no)\n",
    "\n",
    "    elif per_no % 5 == 0:  # 否則\n",
    "        pass  # 為了敘述合法\n",
    "        print(enumer_idx, \"5的倍數!!!! per_no::\", per_no)\n",
    "        \n",
    "    elif per_no % 7 == 0:  # 否則\n",
    "        print(enumer_idx, \"7的倍數!!!! per_no::\", per_no)\n",
    "        \n",
    "    else:\n",
    "        print(enumer_idx, \"垃圾!!!! per_no::\", per_no)"
   ]
  },
  {
   "cell_type": "code",
   "execution_count": 108,
   "metadata": {},
   "outputs": [],
   "source": [
    "from datetime import datetime"
   ]
  },
  {
   "cell_type": "code",
   "execution_count": 113,
   "metadata": {},
   "outputs": [
    {
     "data": {
      "text/plain": [
       "'20200416_20_58_43'"
      ]
     },
     "execution_count": 113,
     "metadata": {},
     "output_type": "execute_result"
    }
   ],
   "source": [
    "datetime.now().strftime(\"%Y%m%d_%H_%M_%S\")"
   ]
  },
  {
   "cell_type": "code",
   "execution_count": 112,
   "metadata": {},
   "outputs": [
    {
     "data": {
      "text/plain": [
       "datetime.datetime"
      ]
     },
     "execution_count": 112,
     "metadata": {},
     "output_type": "execute_result"
    }
   ],
   "source": [
    "type(datetime.now())"
   ]
  },
  {
   "cell_type": "code",
   "execution_count": null,
   "metadata": {},
   "outputs": [],
   "source": []
  }
 ],
 "metadata": {
  "kernelspec": {
   "display_name": "Python 3",
   "language": "python",
   "name": "python3"
  },
  "language_info": {
   "codemirror_mode": {
    "name": "ipython",
    "version": 3
   },
   "file_extension": ".py",
   "mimetype": "text/x-python",
   "name": "python",
   "nbconvert_exporter": "python",
   "pygments_lexer": "ipython3",
   "version": "3.7.6"
  }
 },
 "nbformat": 4,
 "nbformat_minor": 4
}

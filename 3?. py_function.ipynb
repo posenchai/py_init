{
 "cells": [
  {
   "cell_type": "markdown",
   "metadata": {},
   "source": [
    "# Python Function (方法/函式)"
   ]
  },
  {
   "cell_type": "markdown",
   "metadata": {},
   "source": [
    "## How \"Function\""
   ]
  },
  {
   "cell_type": "code",
   "execution_count": 1,
   "metadata": {},
   "outputs": [
    {
     "name": "stdout",
     "output_type": "stream",
     "text": [
      "just print a string like this, and the input attr is 2020.\n"
     ]
    }
   ],
   "source": [
    "# in Python, create the \"function\" is::\n",
    "def function_name(input_attr):\n",
    "    # do what you want to do:\n",
    "    print(f\"just print a string like this, and the input attr is {input_attr}.\")\n",
    "#     return \n",
    "\n",
    "# use it!\n",
    "function_name(\"2020\")"
   ]
  },
  {
   "cell_type": "markdown",
   "metadata": {},
   "source": [
    "## Why \"Function\"\n",
    "\n",
    "### 情境1：我每天都會寫日記放在我的部落格上，會這樣做："
   ]
  },
  {
   "cell_type": "code",
   "execution_count": 2,
   "metadata": {},
   "outputs": [
    {
     "name": "stdout",
     "output_type": "stream",
     "text": [
      "[標題]: 2020, 04, 07\n",
      "[天氣]: 晴天\n",
      "[日記]: 新冠肺炎疫情全球延燒，台灣非世界衛生組織（ WHO ）成員，總統蔡英文在月初宣布捐贈 1000 萬片口罩，伸出援手協助疫情嚴重國家的醫療人員，甚至接受美國《 TIME 》雜誌邀請，向國際社會分享台灣面對新冠肺炎的成功防疫經驗。\n"
     ]
    }
   ],
   "source": [
    "date_title = \"2020, 04, 07\"\n",
    "weather = \"晴天\"\n",
    "diary = \"新冠肺炎疫情全球延燒，台灣非世界衛生組織（ WHO ）成員，總統蔡英文在月初宣布捐贈 1000 萬片口罩，伸出援手協助疫情嚴重國家的醫療人員，甚至接受美國《 TIME 》雜誌邀請，向國際社會分享台灣面對新冠肺炎的成功防疫經驗。\"\n",
    "print(f\"[標題]: {date_title}\")\n",
    "print(f\"[天氣]: {weather}\")\n",
    "print(f\"[日記]: {diary}\")\n"
   ]
  },
  {
   "cell_type": "markdown",
   "metadata": {},
   "source": [
    " - 但實際上我每天都要寫日記，我每天都要輸日期，很煩！\n",
    " - 而且日期又是固定的，不需要任何業務邏輯就可以獲得，\n",
    " - 於是我建立一個function 來自動幫我填入今天的日期:"
   ]
  },
  {
   "cell_type": "code",
   "execution_count": 3,
   "metadata": {},
   "outputs": [
    {
     "name": "stdout",
     "output_type": "stream",
     "text": [
      "2020, 04, 18\n"
     ]
    }
   ],
   "source": [
    "from datetime import datetime  # 需要用到的日期套件\n",
    "\n",
    "def get_today_date():  # 宣告一個方法，這個方法名稱是____，他有＿個輸入值。 TODO: answer it!\n",
    "    return datetime.now().strftime(\"%Y, %m, %d\")\n",
    "\n",
    "# 當我建立好這個function後，我使用它的function名來呼叫他，並把結果印出來：\n",
    "print(get_today_date())"
   ]
  },
  {
   "cell_type": "code",
   "execution_count": 4,
   "metadata": {},
   "outputs": [
    {
     "name": "stdout",
     "output_type": "stream",
     "text": [
      "[標題]: 2020, 04, 18\n",
      "[天氣]: 雨天\n",
      "[日記]: diary blablablablablabla\n"
     ]
    }
   ],
   "source": [
    "# 於是原本的日記程式的第一行改成：\n",
    "date_title = get_today_date()  # 把title 改成 get_today_date()\n",
    "weather = \"雨天\"\n",
    "diary = \"diary blablablablablabla\"\n",
    "print(f\"[標題]: {date_title}\")\n",
    "print(f\"[天氣]: {weather}\")\n",
    "print(f\"[日記]: {diary}\")\n",
    "\n",
    "# 如此一來我就不用每天輸入當天日期，\n",
    "# 透過建立一個小元件，來讓我的程式更好用! "
   ]
  },
  {
   "cell_type": "markdown",
   "metadata": {},
   "source": [
    "### 又，到底為什麼需要function?\n",
    "- 讓你的程式更好閱讀，今天你的程式又臭又長\n",
    "- 所以你可以把重複的程式片段寫成一個方法，讓重複的片段用方法取代\n",
    "\n",
    "### 情境2：BMI的條件判斷\n",
    "#### 業務邏輯: 按照BMI，給出體重過輕、正常、肥胖...等分類"
   ]
  },
  {
   "cell_type": "code",
   "execution_count": 5,
   "metadata": {},
   "outputs": [
    {
     "name": "stdout",
     "output_type": "stream",
     "text": [
      "你的BMI: 60, 重度肥胖\n"
     ]
    }
   ],
   "source": [
    "# 原先這樣寫，並執行它\n",
    "bmi_value = 60\n",
    "\n",
    "if bmi_value < 18.5:\n",
    "    print(f\"你的BMI: {bmi_value}, 體重過輕\")\n",
    "    \n",
    "elif bmi_value > 18.5 and bmi_value < 24:\n",
    "    print(f\"你的BMI: {bmi_value}, 正常範圍\")\n",
    "    \n",
    "elif bmi_value >= 24 and bmi_value < 27:\n",
    "    print(f\"你的BMI: {bmi_value}, 過重\")\n",
    "    \n",
    "elif bmi_value >= 27 and bmi_value < 30:\n",
    "    print(f\"你的BMI: {bmi_value}, 輕度肥胖\")\n",
    "    \n",
    "elif bmi_value >= 30 and bmi_value < 35:\n",
    "    print(f\"你的BMI: {bmi_value}, 中度肥胖\")\n",
    "    \n",
    "elif bmi_value >= 35:\n",
    "    print(f\"你的BMI: {bmi_value}, 重度肥胖\")"
   ]
  },
  {
   "cell_type": "markdown",
   "metadata": {},
   "source": [
    "- 但隔天回來看你的業務邏輯，發現充斥著\"你的BMI\", \"你的BMI\", \"你的BMI\"...\n",
    "- 一堆和業務邏輯無關的敘述(statement)，造成\n",
    "- 1. 不易閱讀：不容易看出來到底\"輕度肥胖\"是幾公斤\n",
    "- 2. 不易維護：很難追蹤這一系列的連續判斷有沒有邏輯bug\n",
    "\n",
    "### 所以可以這樣做：建立一個方法，把重複的地方先寫好："
   ]
  },
  {
   "cell_type": "code",
   "execution_count": 6,
   "metadata": {},
   "outputs": [],
   "source": [
    "def prt_res(bmi_value, str_cate): # 宣告一個方法，這個方法名稱是____，他有＿個輸入值。 TODO: answer it!\n",
    "    print(f\"你的BMI: {bmi_value}, {str_cate}\")"
   ]
  },
  {
   "cell_type": "markdown",
   "metadata": {},
   "source": [
    "### 於是改寫你的code，變成這樣："
   ]
  },
  {
   "cell_type": "code",
   "execution_count": 39,
   "metadata": {},
   "outputs": [
    {
     "name": "stdout",
     "output_type": "stream",
     "text": [
      "你的BMI: 60, 重度肥胖\n"
     ]
    }
   ],
   "source": [
    "bmi_value = 60\n",
    "if bmi_value < 18.5:\n",
    "    prt_res(bmi_value, str_cate=\"體重過輕\")\n",
    "    \n",
    "elif bmi_value > 18.5 and bmi_value < 24:\n",
    "    prt_res(bmi_value, str_cate=\"正常範圍\")\n",
    "    \n",
    "elif bmi_value >= 24 and bmi_value < 27:\n",
    "    prt_res(bmi_value, str_cate=\"過重\")\n",
    "    \n",
    "elif bmi_value >= 27 and bmi_value < 30:\n",
    "    prt_res(bmi_value, str_cate=\"輕度肥胖\")\n",
    "    \n",
    "elif bmi_value >= 30 and bmi_value < 35:\n",
    "    prt_res(bmi_value, str_cate=\"中度肥胖\")\n",
    "    \n",
    "elif bmi_value >= 35:\n",
    "    prt_res(bmi_value, str_cate=\"重度肥胖\")"
   ]
  },
  {
   "cell_type": "markdown",
   "metadata": {},
   "source": [
    "### 改完之後變乾淨了，但還是很難閱讀，才發現是自己寫的不夠漂亮，再改改"
   ]
  },
  {
   "cell_type": "code",
   "execution_count": 41,
   "metadata": {},
   "outputs": [
    {
     "name": "stdout",
     "output_type": "stream",
     "text": [
      "你的BMI: 60, 重度肥胖\n"
     ]
    }
   ],
   "source": [
    "bmi_value = 60\n",
    "\n",
    "if  bmi_value < 18.5:\n",
    "    prt_res(bmi_value, str_cate=\"體重過輕\")\n",
    "    \n",
    "elif bmi_value < 24:\n",
    "    prt_res(bmi_value, str_cate=\"正常範圍\")\n",
    "    \n",
    "elif bmi_value < 27:\n",
    "    prt_res(bmi_value, str_cate=\"過重\")\n",
    "    \n",
    "elif bmi_value < 30:\n",
    "    prt_res(bmi_value, str_cate=\"輕度肥胖\")\n",
    "    \n",
    "elif bmi_value < 35:\n",
    "    prt_res(bmi_value, str_cate=\"中度肥胖\")\n",
    "    \n",
    "else:  # elif 35 < bmi_value:\n",
    "    prt_res(bmi_value, str_cate=\"重度肥胖\")"
   ]
  },
  {
   "cell_type": "markdown",
   "metadata": {},
   "source": [
    "### 好像越來越好了，再改改！\n",
    "#### 建立一個bmi分類器, bmi_category()"
   ]
  },
  {
   "cell_type": "code",
   "execution_count": 8,
   "metadata": {},
   "outputs": [
    {
     "name": "stdout",
     "output_type": "stream",
     "text": [
      "30 中度肥胖\n"
     ]
    }
   ],
   "source": [
    "def bmi_category(bmi_val):  # TODO: trace bmi_category 這個function\n",
    "    tup_bmi_range = (18.5, 24, 27, 30, 35)\n",
    "    tup_bmi_cate = (\"體重過輕\", \"正常範圍\", \"過重\", \"輕度肥胖\", \"中度肥胖\")  #, \"重度肥胖\"\n",
    "    for bmi_range, bmi_cate in zip(tup_bmi_range, tup_bmi_cate):\n",
    "        # print(bmi_value, bmi_range, bmi_cate)\n",
    "        if bmi_value < bmi_range:\n",
    "            return bmi_cate\n",
    "    return \"重度肥胖\"\n",
    "\n",
    "bmi_value = 30\n",
    "print(bmi_value, bmi_category(bmi_value))"
   ]
  },
  {
   "cell_type": "code",
   "execution_count": 9,
   "metadata": {},
   "outputs": [],
   "source": [
    "# 最終，我們把整個BMI都封裝成一個方法，只要把bmi餵進去，就會回傳分類結果！"
   ]
  },
  {
   "cell_type": "markdown",
   "metadata": {},
   "source": [
    "# What\n",
    "怎麼看待一個function：\n",
    "1. 它的input是什麼: 它需不需要有input值? 數量是多少? 最重要的是傳了什麼進去\n",
    "2. 它的output是什麼: 它會return出什麼結果? 我得到這個結果之後要繼續怎麼使用\n",
    "\n",
    "### 有輸入有輸出，那自然可以了解這個function大概會做什麼事情。\n"
   ]
  },
  {
   "cell_type": "code",
   "execution_count": null,
   "metadata": {},
   "outputs": [],
   "source": []
  }
 ],
 "metadata": {
  "kernelspec": {
   "display_name": "Python 3",
   "language": "python",
   "name": "python3"
  },
  "language_info": {
   "codemirror_mode": {
    "name": "ipython",
    "version": 3
   },
   "file_extension": ".py",
   "mimetype": "text/x-python",
   "name": "python",
   "nbconvert_exporter": "python",
   "pygments_lexer": "ipython3",
   "version": "3.7.6"
  }
 },
 "nbformat": 4,
 "nbformat_minor": 4
}

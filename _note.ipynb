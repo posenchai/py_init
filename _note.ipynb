{
 "cells": [
  {
   "cell_type": "code",
   "execution_count": null,
   "metadata": {},
   "outputs": [],
   "source": [
    "r1 = range(5, 50, 5)\n",
    "# python3之後的range()方法，產生的會是一個生成器/迭代器/generation，\n",
    "# 生成器的好處在於程式處理到個別產物時才會產出來\n",
    "\n",
    "# 比較：python3以前的range()會把產物直接生成出來放在list裡面\n",
    "# 缺點是記憶體負擔比較大\n",
    "\n",
    "print (r1)  # 印出r1會看不到r1裡面的細節\n",
    "\n",
    "\n",
    "# 但是使用r1時就會看到個別產物\n",
    "for r in r1:\n",
    "    print(r)\n",
    "# [r for r in r1]"
   ]
  }
 ],
 "metadata": {
  "kernelspec": {
   "display_name": "Python 3",
   "language": "python",
   "name": "python3"
  },
  "language_info": {
   "codemirror_mode": {
    "name": "ipython",
    "version": 3
   },
   "file_extension": ".py",
   "mimetype": "text/x-python",
   "name": "python",
   "nbconvert_exporter": "python",
   "pygments_lexer": "ipython3",
   "version": "3.7.3"
  }
 },
 "nbformat": 4,
 "nbformat_minor": 2
}
